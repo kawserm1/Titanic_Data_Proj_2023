{
  "nbformat": 4,
  "nbformat_minor": 0,
  "metadata": {
    "colab": {
      "provenance": []
    },
    "kernelspec": {
      "name": "python3",
      "display_name": "Python 3"
    },
    "language_info": {
      "name": "python"
    }
  },
  "cells": [
    {
      "cell_type": "markdown",
      "source": [
        "DO smth\n"
      ],
      "metadata": {
        "id": "E5gZWQ_YoxSn"
      }
    },
    {
      "cell_type": "code",
      "execution_count": null,
      "metadata": {
        "colab": {
          "base_uri": "https://localhost:8080/"
        },
        "id": "Pg0Z2B5zovAg",
        "outputId": "7a21443b-0175-4767-fef7-d90451065e6f"
      },
      "outputs": [
        {
          "output_type": "stream",
          "name": "stdout",
          "text": [
            "Hello\n"
          ]
        }
      ],
      "source": [
        "print(\"Hello\")/train.csv"
      ]
    },
    {
      "cell_type": "code",
      "source": [
        "a = [i for i in range(20)]\n",
        "print(a)"
      ],
      "metadata": {
        "id": "q-ipmTgFo4jc",
        "colab": {
          "base_uri": "https://localhost:8080/"
        },
        "outputId": "9da624cd-fc36-4554-9237-ad10fc04b7a1"
      },
      "execution_count": null,
      "outputs": [
        {
          "output_type": "stream",
          "name": "stdout",
          "text": [
            "[0, 1, 2, 3, 4, 5, 6, 7, 8, 9, 10, 11, 12, 13, 14, 15, 16, 17, 18, 19]\n"
          ]
        }
      ]
    },
    {
      "cell_type": "code",
      "source": [
        "# Which gender is likely to have survived more?\n",
        "import numpy as np\n",
        "import pandas as pd\n",
        "import matplotlib.pyplot as plt\n",
        "import seaborn as sns\n",
        "%matplotlib inline \n",
        "ds = pd.read_csv('/train.csv')\n",
        "ds.head()\n",
        "ds['Sex'].value_counts()"
      ],
      "metadata": {
        "colab": {
          "base_uri": "https://localhost:8080/"
        },
        "id": "F-Mmnqnl_-No",
        "outputId": "57614081-f000-43f1-ee4d-1cdc1e1701fa"
      },
      "execution_count": null,
      "outputs": [
        {
          "output_type": "execute_result",
          "data": {
            "text/plain": [
              "male      577\n",
              "female    314\n",
              "Name: Sex, dtype: int64"
            ]
          },
          "metadata": {},
          "execution_count": 23
        }
      ]
    },
    {
      "cell_type": "code",
      "source": [
        "ds['Survived'].value_counts()"
      ],
      "metadata": {
        "colab": {
          "base_uri": "https://localhost:8080/"
        },
        "id": "N5eoekncA5mI",
        "outputId": "7f064334-42bc-4548-fcca-c7710a316caa"
      },
      "execution_count": null,
      "outputs": [
        {
          "output_type": "execute_result",
          "data": {
            "text/plain": [
              "0    549\n",
              "1    342\n",
              "Name: Survived, dtype: int64"
            ]
          },
          "metadata": {},
          "execution_count": 24
        }
      ]
    },
    {
      "cell_type": "code",
      "source": [
        "male_not_survived = 0\n",
        "count = 0\n",
        "length = len(ds)\n",
        "males = 0\n",
        "while(count<length):\n",
        "  if ds[\"Sex\"][count] == \"male\":\n",
        "    males+=1\n",
        "    if ds['Survived'][count] == 0:\n",
        "      male_not_survived +=1\n",
        "  count+=1\n",
        "print(males)\n",
        "print('male not survived', male_not_survived)  \n",
        "male_survived = males - male_not_survived \n",
        "print('male survived', male_survived)\n"
      ],
      "metadata": {
        "colab": {
          "base_uri": "https://localhost:8080/"
        },
        "id": "U3s-N4xAGNQN",
        "outputId": "524b9b31-93fe-414b-c794-b6e979997812"
      },
      "execution_count": null,
      "outputs": [
        {
          "output_type": "stream",
          "name": "stdout",
          "text": [
            "male not survived 468\n",
            "male survived 109\n"
          ]
        }
      ]
    },
    {
      "cell_type": "code",
      "source": [
        "count = 0\n",
        "length = len(ds)\n",
        "females = 0\n",
        "female_not_survived = 0\n",
        "while(count<length):\n",
        "  if ds[\"Sex\"][count] == 'female':\n",
        "    females += 1\n",
        "    if ds['Survived'][count] == 0:\n",
        "      female_not_survived += 1\n",
        "  count += 1\n",
        "print('female', females)\n",
        "print('female not survived', female_not_survived)\n",
        "female_survived = females - female_not_survived\n",
        "print('female survived', female_survived)\n"
      ],
      "metadata": {
        "colab": {
          "base_uri": "https://localhost:8080/"
        },
        "id": "7XLyrs8MMMy9",
        "outputId": "6bb26631-167d-440b-82a5-abbe1592a179"
      },
      "execution_count": null,
      "outputs": [
        {
          "output_type": "stream",
          "name": "stdout",
          "text": [
            "female 314\n",
            "female not survived 81\n",
            "female survived 233\n"
          ]
        }
      ]
    },
    {
      "cell_type": "code",
      "source": [
        "sns.countplot('Sex', data = ds)"
      ],
      "metadata": {
        "colab": {
          "base_uri": "https://localhost:8080/",
          "height": 354
        },
        "id": "HVCqlQVZpe4p",
        "outputId": "62cc731d-bce4-4ad0-fe3d-d42f1d36c17e"
      },
      "execution_count": null,
      "outputs": [
        {
          "output_type": "stream",
          "name": "stderr",
          "text": [
            "/usr/local/lib/python3.8/dist-packages/seaborn/_decorators.py:36: FutureWarning: Pass the following variable as a keyword arg: x. From version 0.12, the only valid positional argument will be `data`, and passing other arguments without an explicit keyword will result in an error or misinterpretation.\n",
            "  warnings.warn(\n"
          ]
        },
        {
          "output_type": "execute_result",
          "data": {
            "text/plain": [
              "<matplotlib.axes._subplots.AxesSubplot at 0x7f0899b9cc10>"
            ]
          },
          "metadata": {},
          "execution_count": 45
        },
        {
          "output_type": "display_data",
          "data": {
            "text/plain": [
              "<Figure size 432x288 with 1 Axes>"
            ],
            "image/png": "[encoded data removed]"
          },
          "metadata": {
            "needs_background": "light"
          }
        }
      ]
    },
    {
      "cell_type": "code",
      "source": [
        "# Which gender is likely to have survived more?\n",
        "import numpy as np\n",
        "import pandas as pd\n",
        "import matplotlib.pyplot as plt\n",
        "import seaborn as sns\n",
        "%matplotlib inline \n",
        "ds = pd.read_csv('/train.csv')\n",
        "ds.head()\n",
        "ds['Sex'].value_counts()\n",
        "sns.countplot('Sex', data = ds, hue = 'Survived')\n",
        "# Ans: Female\n",
        "# Want to find what percentage of females survived"
      ],
      "metadata": {
        "colab": {
          "base_uri": "https://localhost:8080/",
          "height": 352
        },
        "id": "BqICqxX5ttlY",
        "outputId": "e1be557b-bfee-452e-bb14-c0bbed39ba1a"
      },
      "execution_count": null,
      "outputs": [
        {
          "output_type": "stream",
          "name": "stderr",
          "text": [
            "/usr/local/lib/python3.8/dist-packages/seaborn/_decorators.py:36: FutureWarning: Pass the following variable as a keyword arg: x. From version 0.12, the only valid positional argument will be `data`, and passing other arguments without an explicit keyword will result in an error or misinterpretation.\n",
            "  warnings.warn(\n"
          ]
        },
        {
          "output_type": "execute_result",
          "data": {
            "text/plain": [
              "<matplotlib.axes._subplots.AxesSubplot at 0x7f0884cbdbe0>"
            ]
          },
          "metadata": {},
          "execution_count": 16
        },
        {
          "output_type": "display_data",
          "data": {
            "text/plain": [
              "<Figure size 432x288 with 1 Axes>"
            ],
            "image/png": "[encoded data removed]"
          },
          "metadata": {
            "needs_background": "light"
          }
        }
      ]
    },
    {
      "cell_type": "code",
      "source": [
        "count = 0\n",
        "A1 = 0\n",
        "B2 = 0\n",
        "C3 = 0\n",
        "while count<len(ds):\n",
        "  if ds['Pclass'][count] == 1:\n",
        "    A1 += 1\n",
        "  elif ds['Pclass'][count] == 2:\n",
        "    B2 += 1\n",
        "  else:\n",
        "    C3 += 1\n",
        "  count += 1\n",
        "pclass = [A1, B2, C3]\n",
        "p_labels = [1, 2, 3]\n",
        "\n",
        "fig = plt.figure(figsize =(10, 7))\n",
        "plt.pie(pclass, labels = p_labels)\n",
        "# show plot\n",
        "plt.show()"
      ],
      "metadata": {
        "colab": {
          "base_uri": "https://localhost:8080/",
          "height": 411
        },
        "id": "VPZms1iLYW3_",
        "outputId": "b8736768-6f3a-461c-c381-a9e6e595db9e"
      },
      "execution_count": null,
      "outputs": [
        {
          "output_type": "display_data",
          "data": {
            "text/plain": [
              "<Figure size 720x504 with 1 Axes>"
            ],
            "image/png": "[encoded data removed]"
          },
          "metadata": {}
        }
      ]
    },
    {
      "cell_type": "code",
      "source": [
        "# Want to take a look at a comparison of the amount of people that survived from each Passenger Class\n",
        "sns.countplot('Pclass', data = ds, hue = 'Survived')"
      ],
      "metadata": {
        "colab": {
          "base_uri": "https://localhost:8080/",
          "height": 352
        },
        "id": "46oQRPTw1bYc",
        "outputId": "ea589bd7-9312-4f5e-9e97-82e83b84a39d"
      },
      "execution_count": null,
      "outputs": [
        {
          "output_type": "stream",
          "name": "stderr",
          "text": [
            "/usr/local/lib/python3.8/dist-packages/seaborn/_decorators.py:36: FutureWarning: Pass the following variable as a keyword arg: x. From version 0.12, the only valid positional argument will be `data`, and passing other arguments without an explicit keyword will result in an error or misinterpretation.\n",
            "  warnings.warn(\n"
          ]
        },
        {
          "output_type": "execute_result",
          "data": {
            "text/plain": [
              "<matplotlib.axes._subplots.AxesSubplot at 0x7f0882cb8220>"
            ]
          },
          "metadata": {},
          "execution_count": 66
        },
        {
          "output_type": "display_data",
          "data": {
            "text/plain": [
              "<Figure size 432x288 with 1 Axes>"
            ],
            "image/png": "[encoded data removed]"
          },
          "metadata": {
            "needs_background": "light"
          }
        }
      ]
    }
  ]
}